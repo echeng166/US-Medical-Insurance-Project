{
 "cells": [
  {
   "cell_type": "markdown",
   "metadata": {
    "tags": []
   },
   "source": [
    "# U.S. Medical Insurance Costs"
   ]
  },
  {
   "cell_type": "markdown",
   "metadata": {},
   "source": [
    "## Project Goals "
   ]
  },
  {
   "cell_type": "markdown",
   "metadata": {},
   "source": [
    "The project obtains data on US medical insurance costs from a csv file. The analysis compasses how different variables, including `age`, `sex`, `bmi`, `children` and `region`, influence insurance `charge`."
   ]
  },
  {
   "cell_type": "markdown",
   "metadata": {},
   "source": [
    "## Data"
   ]
  },
  {
   "cell_type": "markdown",
   "metadata": {},
   "source": [
    "- Create a database on US medical insurance costs from a csv file using a dictionary called insurance_dictionary."
   ]
  },
  {
   "cell_type": "code",
   "execution_count": 1,
   "metadata": {},
   "outputs": [],
   "source": [
    "# import csv library\n",
    "import csv\n",
    "\n",
    "# Obtaining insurance data from the csv file and save them in a dictionary\n",
    "with open('insurance.csv',newline='') as insurance_csv:\n",
    "    insurance_csv_dict = csv.DictReader(insurance_csv)\n",
    "    insurance_dictionary = {}\n",
    "    i=1\n",
    "    for row in insurance_csv_dict:\n",
    "        insurance_dictionary[i]=row\n",
    "        i+=1\n",
    "\n",
    "# print(insurance_dictionary)\n",
    "\n",
    "\n",
    "# Define a function to convert string data type into number types in the dictionary\n",
    "# Female is 0 and male is 1\n",
    "# Non-smoker is 0 and smoker is 1\n",
    "\n",
    "def convert_dictionary_format(insurance_dictionary):\n",
    "    for keys, value in insurance_dictionary.items():\n",
    "        value['age']=int(value['age'])\n",
    "        value['children']=int(value['children'])\n",
    "        if value['sex']==\"female\":\n",
    "            value['sex']=0\n",
    "        else: \n",
    "            value['sex']=1\n",
    "        value['bmi']=float(value['bmi'])\n",
    "        if value['smoker']==\"yes\":\n",
    "            value['smoker']=1\n",
    "        else: \n",
    "            value['smoker']=0\n",
    "        value['charges']=float(value['charges'])\n",
    "    return insurance_dictionary\n",
    "\n",
    "updated_insurance_dictionary = convert_dictionary_format(insurance_dictionary)\n",
    "\n",
    "\n",
    "# test\n",
    "# print(updated_insurance_dictionary)"
   ]
  },
  {
   "cell_type": "markdown",
   "metadata": {},
   "source": [
    "- Organize the insurance costs by regions"
   ]
  },
  {
   "cell_type": "code",
   "execution_count": 2,
   "metadata": {},
   "outputs": [],
   "source": [
    "# Define a funciton to create an insurance dictionary by regions\n",
    "\n",
    "def insurance_records_by_regions(updated_insurance_dictionary):\n",
    "    insurance_records_by_regions = dict()\n",
    "    for key, record in updated_insurance_dictionary.items():\n",
    "        if record[\"region\"] not in insurance_records_by_regions:\n",
    "            insurance_records_by_regions[record.get(\"region\")]=[record]\n",
    "        else:\n",
    "            insurance_records_by_regions[record.get(\"region\")].append(record)\n",
    "    return insurance_records_by_regions\n",
    "\n",
    "insurance_records_by_regions = insurance_records_by_regions(updated_insurance_dictionary)\n",
    "\n",
    "# test\n",
    "# print(insurance_records_by_regions)"
   ]
  },
  {
   "cell_type": "markdown",
   "metadata": {},
   "source": [
    "## Descriptive Analysis"
   ]
  },
  {
   "cell_type": "markdown",
   "metadata": {},
   "source": [
    "- By regions:\n",
    "     - Total insurance costs\n",
    "     - Total number of insurees\n",
    "     - Average cost per person\n",
    "     - Average age\n",
    "     - Male propertion\n",
    "     - Average bmi\n",
    "     - Average children number\n",
    "     - Smokers propertion"
   ]
  },
  {
   "cell_type": "code",
   "execution_count": 3,
   "metadata": {},
   "outputs": [
    {
     "name": "stdout",
     "output_type": "stream",
     "text": [
      "Characteristics of insurance charges across regions are: {'tot insurance charges': {'attribute': 'tot insurance charges', 'southwest': 4012754.647620001, 'southeast': 5363689.763290002, 'northwest': 4035711.9965399993, 'northeast': 4343668.583308999}, 'tot insurees': {'attribute': 'tot insurees', 'southwest': 325, 'southeast': 364, 'northwest': 325, 'northeast': 324}, 'avg cost pp': {'attribute': 'avg cost pp', 'southwest': 12346.93737729231, 'southeast': 14735.411437609895, 'northwest': 12417.575373969228, 'northeast': 13406.3845163858}, 'avg age': {'attribute': 'avg age', 'southwest': 39.45538461538462, 'southeast': 38.93956043956044, 'northwest': 39.19692307692308, 'northeast': 39.26851851851852}, 'males%': {'attribute': 'males%', 'southwest': 50.153846153846146, 'southeast': 51.92307692307693, 'northwest': 49.53846153846154, 'northeast': 50.308641975308646}, 'avg bmi': {'attribute': 'avg bmi', 'southwest': 30.59661538461538, 'southeast': 33.35598901098903, 'northwest': 29.199784615384626, 'northeast': 29.17350308641976}, 'avg children': {'attribute': 'avg children', 'southwest': 1.1415384615384616, 'southeast': 1.0494505494505495, 'northwest': 1.1476923076923078, 'northeast': 1.0462962962962963}, 'smokers%': {'attribute': 'smokers%', 'southwest': 17.846153846153847, 'southeast': 25.0, 'northwest': 17.846153846153847, 'northeast': 20.679012345679013}}\n"
     ]
    }
   ],
   "source": [
    "# define a function to create a dictionary with keys of regions and values of the insurance costs in those regions\n",
    "def region_characteristics(insurance_records_by_regions):\n",
    "    region_characteristics={}\n",
    "    region_characteristics[\"tot insurance charges\"]={'attribute':\"tot insurance charges\"}\n",
    "    region_characteristics[\"tot insurees\"]={'attribute':\"tot insurees\"}\n",
    "    region_characteristics[\"avg cost pp\"]={'attribute':\"avg cost pp\"}\n",
    "    region_characteristics[\"avg age\"]={'attribute':\"avg age\"}\n",
    "    region_characteristics[\"males%\"]={'attribute':\"males%\" }\n",
    "    region_characteristics[\"avg bmi\"]={'attribute':\"avg bmi\"}\n",
    "    region_characteristics[\"avg children\"]={'attribute':\"avg children\"}\n",
    "    region_characteristics[\"smokers%\"]={'attribute':\"smokers%\"}\n",
    "\n",
    "    for region, records in insurance_records_by_regions.items():\n",
    "        tot_charges = 0\n",
    "        tot_age = 0\n",
    "        num = 0\n",
    "        tot_males = 0\n",
    "        tot_bmi =0\n",
    "        tot_children = 0\n",
    "        tot_smokers = 0\n",
    "        for record in records:\n",
    "            tot_charges += record.get(\"charges\")\n",
    "            num += 1\n",
    "            tot_age += record.get(\"age\")\n",
    "            tot_males += record.get(\"sex\")\n",
    "            tot_bmi += record.get(\"bmi\")\n",
    "            tot_children += record.get(\"children\")\n",
    "            tot_smokers += record.get(\"smoker\")\n",
    "\n",
    "        region_characteristics[\"tot insurance charges\"][region]=tot_charges\n",
    "        region_characteristics[\"tot insurees\"][region]=num\n",
    "        region_characteristics[\"avg cost pp\"][region]=tot_charges/num\n",
    "        region_characteristics[\"avg age\"][region]=tot_age/num\n",
    "        region_characteristics[\"males%\"][region]=tot_males/num*100\n",
    "        region_characteristics[\"avg bmi\"][region]=tot_bmi/num\n",
    "        region_characteristics[\"avg children\"][region]=tot_children/num\n",
    "        region_characteristics[\"smokers%\"][region]=tot_smokers/num*100\n",
    "    return region_characteristics\n",
    "\n",
    "region_characteristics = region_characteristics(insurance_records_by_regions)\n",
    "\n",
    "print(\"Characteristics of insurance charges across regions are: {}\".format(region_characteristics))    "
   ]
  },
  {
   "cell_type": "markdown",
   "metadata": {},
   "source": [
    "- Write the the summary of the regions into new a new csv file named \"region-summary-table.csv\""
   ]
  },
  {
   "cell_type": "code",
   "execution_count": 11,
   "metadata": {},
   "outputs": [],
   "source": [
    "with open('region-summary-table.csv','w') as region_summary_csv:\n",
    "    fildnames =  list(region_characteristics[\"tot insurance charges\"])\n",
    "    writer = csv.DictWriter(region_summary_csv,fildnames)\n",
    "    writer.writeheader()\n",
    "    for attribue, regions in region_characteristics.items():\n",
    "        writer.writerow(regions)"
   ]
  },
  {
   "cell_type": "code",
   "execution_count": null,
   "metadata": {},
   "outputs": [],
   "source": []
  }
 ],
 "metadata": {
  "kernelspec": {
   "display_name": "Python 3 (ipykernel)",
   "language": "python",
   "name": "python3"
  },
  "language_info": {
   "codemirror_mode": {
    "name": "ipython",
    "version": 3
   },
   "file_extension": ".py",
   "mimetype": "text/x-python",
   "name": "python",
   "nbconvert_exporter": "python",
   "pygments_lexer": "ipython3",
   "version": "3.9.13"
  }
 },
 "nbformat": 4,
 "nbformat_minor": 4
}
